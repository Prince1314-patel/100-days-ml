{
 "cells": [
  {
   "cell_type": "code",
   "execution_count": 1,
   "id": "bd309c7a",
   "metadata": {},
   "outputs": [],
   "source": [
    "import numpy as np\n",
    "import pandas as pd\n",
    "from sklearn.datasets import load_iris"
   ]
  },
  {
   "cell_type": "code",
   "execution_count": 2,
   "id": "79da32d5",
   "metadata": {},
   "outputs": [
    {
     "name": "stdout",
     "output_type": "stream",
     "text": [
      "   sepal length (cm)  sepal width (cm)  petal length (cm)  petal width (cm)  \\\n",
      "0                5.1               3.5                1.4               0.2   \n",
      "1                4.9               3.0                1.4               0.2   \n",
      "2                4.7               3.2                1.3               0.2   \n",
      "3                4.6               3.1                1.5               0.2   \n",
      "4                5.0               3.6                1.4               0.2   \n",
      "\n",
      "   target  \n",
      "0       0  \n",
      "1       0  \n",
      "2       0  \n",
      "3       0  \n",
      "4       0  \n"
     ]
    }
   ],
   "source": [
    "# Load the Iris dataset\n",
    "iris = load_iris()\n",
    "\n",
    "# Convert the data to a DataFrame\n",
    "df = pd.DataFrame(data=iris.data, columns=iris.feature_names)\n",
    "\n",
    "# Add the target column to the DataFrame\n",
    "df['target'] = iris.target\n",
    "\n",
    "# Display the DataFrame\n",
    "print(df.head())"
   ]
  },
  {
   "cell_type": "code",
   "execution_count": 3,
   "id": "bf574676",
   "metadata": {},
   "outputs": [],
   "source": [
    "new_df = df[df['target'] != 0][['sepal length (cm)','sepal width (cm)','target']]"
   ]
  },
  {
   "cell_type": "code",
   "execution_count": 4,
   "id": "ea544caa",
   "metadata": {},
   "outputs": [
    {
     "data": {
      "text/html": [
       "<div>\n",
       "<style scoped>\n",
       "    .dataframe tbody tr th:only-of-type {\n",
       "        vertical-align: middle;\n",
       "    }\n",
       "\n",
       "    .dataframe tbody tr th {\n",
       "        vertical-align: top;\n",
       "    }\n",
       "\n",
       "    .dataframe thead th {\n",
       "        text-align: right;\n",
       "    }\n",
       "</style>\n",
       "<table border=\"1\" class=\"dataframe\">\n",
       "  <thead>\n",
       "    <tr style=\"text-align: right;\">\n",
       "      <th></th>\n",
       "      <th>sepal length (cm)</th>\n",
       "      <th>sepal width (cm)</th>\n",
       "      <th>target</th>\n",
       "    </tr>\n",
       "  </thead>\n",
       "  <tbody>\n",
       "    <tr>\n",
       "      <th>50</th>\n",
       "      <td>7.0</td>\n",
       "      <td>3.2</td>\n",
       "      <td>1</td>\n",
       "    </tr>\n",
       "    <tr>\n",
       "      <th>51</th>\n",
       "      <td>6.4</td>\n",
       "      <td>3.2</td>\n",
       "      <td>1</td>\n",
       "    </tr>\n",
       "    <tr>\n",
       "      <th>52</th>\n",
       "      <td>6.9</td>\n",
       "      <td>3.1</td>\n",
       "      <td>1</td>\n",
       "    </tr>\n",
       "    <tr>\n",
       "      <th>53</th>\n",
       "      <td>5.5</td>\n",
       "      <td>2.3</td>\n",
       "      <td>1</td>\n",
       "    </tr>\n",
       "    <tr>\n",
       "      <th>54</th>\n",
       "      <td>6.5</td>\n",
       "      <td>2.8</td>\n",
       "      <td>1</td>\n",
       "    </tr>\n",
       "  </tbody>\n",
       "</table>\n",
       "</div>"
      ],
      "text/plain": [
       "    sepal length (cm)  sepal width (cm)  target\n",
       "50                7.0               3.2       1\n",
       "51                6.4               3.2       1\n",
       "52                6.9               3.1       1\n",
       "53                5.5               2.3       1\n",
       "54                6.5               2.8       1"
      ]
     },
     "execution_count": 4,
     "metadata": {},
     "output_type": "execute_result"
    }
   ],
   "source": [
    "new_df.head()\n"
   ]
  },
  {
   "cell_type": "code",
   "execution_count": 5,
   "id": "8dc497ba",
   "metadata": {},
   "outputs": [],
   "source": [
    "X = df.iloc[:,0:2]\n",
    "y = df.iloc[:,-1]"
   ]
  },
  {
   "cell_type": "code",
   "execution_count": 6,
   "id": "cbbee050",
   "metadata": {},
   "outputs": [],
   "source": [
    "from sklearn.linear_model import LogisticRegression\n",
    "from sklearn.neighbors import KNeighborsClassifier\n",
    "from sklearn.ensemble import RandomForestClassifier\n",
    "from sklearn.model_selection import cross_val_score"
   ]
  },
  {
   "cell_type": "code",
   "execution_count": 7,
   "id": "76f9f652",
   "metadata": {},
   "outputs": [],
   "source": [
    "clf1 = LogisticRegression()\n",
    "clf2 = RandomForestClassifier()\n",
    "clf3 = KNeighborsClassifier()"
   ]
  },
  {
   "cell_type": "code",
   "execution_count": 8,
   "id": "4710dabb",
   "metadata": {},
   "outputs": [],
   "source": [
    "estimators = [('lr',clf1),('rf',clf2),('knn',clf3)]"
   ]
  },
  {
   "cell_type": "code",
   "execution_count": 9,
   "id": "f88fab61",
   "metadata": {},
   "outputs": [
    {
     "name": "stdout",
     "output_type": "stream",
     "text": [
      "lr 0.81\n",
      "rf 0.73\n",
      "knn 0.76\n"
     ]
    }
   ],
   "source": [
    "for estimator in estimators:\n",
    "    x = cross_val_score(estimator[1],X,y,cv=10,scoring='accuracy')\n",
    "    print(estimator[0],np.round(np.mean(x),2))"
   ]
  },
  {
   "cell_type": "code",
   "execution_count": 10,
   "id": "c851686e",
   "metadata": {},
   "outputs": [],
   "source": [
    "from sklearn.ensemble import VotingClassifier"
   ]
  },
  {
   "cell_type": "markdown",
   "id": "191943dd",
   "metadata": {},
   "source": [
    "# Hard Voting"
   ]
  },
  {
   "cell_type": "code",
   "execution_count": 11,
   "id": "91a85e20",
   "metadata": {},
   "outputs": [],
   "source": [
    "vc = VotingClassifier(estimators=estimators,voting='hard')\n",
    "x = cross_val_score(vc,X,y,cv=20,scoring='accuracy')"
   ]
  },
  {
   "cell_type": "code",
   "execution_count": 12,
   "id": "ab651cca",
   "metadata": {},
   "outputs": [
    {
     "name": "stdout",
     "output_type": "stream",
     "text": [
      "0.78\n"
     ]
    }
   ],
   "source": [
    "print(np.round(np.mean(x),3))"
   ]
  },
  {
   "cell_type": "markdown",
   "id": "deb0d41f",
   "metadata": {},
   "source": [
    "# Soft Voting"
   ]
  },
  {
   "cell_type": "code",
   "execution_count": 13,
   "id": "0b7417be",
   "metadata": {},
   "outputs": [
    {
     "name": "stdout",
     "output_type": "stream",
     "text": [
      "0.76\n"
     ]
    }
   ],
   "source": [
    "vc1 = VotingClassifier(estimators=estimators,voting='soft')\n",
    "x = cross_val_score(vc1,X,y,cv=10,scoring='accuracy')\n",
    "print(np.round(np.mean(x),2))"
   ]
  },
  {
   "cell_type": "markdown",
   "id": "5bd21e25",
   "metadata": {},
   "source": [
    "# Weighted Voting"
   ]
  },
  {
   "cell_type": "code",
   "execution_count": 14,
   "id": "a9a8f14e",
   "metadata": {},
   "outputs": [
    {
     "name": "stdout",
     "output_type": "stream",
     "text": [
      "for i=1,j=1,k=1 0.76\n",
      "for i=1,j=1,k=2 0.77\n",
      "for i=1,j=1,k=3 0.76\n",
      "for i=1,j=2,k=1 0.77\n",
      "for i=1,j=2,k=2 0.75\n",
      "for i=1,j=2,k=3 0.76\n",
      "for i=1,j=3,k=1 0.76\n",
      "for i=1,j=3,k=2 0.74\n",
      "for i=1,j=3,k=3 0.76\n",
      "for i=2,j=1,k=1 0.79\n",
      "for i=2,j=1,k=2 0.77\n",
      "for i=2,j=1,k=3 0.77\n",
      "for i=2,j=2,k=1 0.77\n",
      "for i=2,j=2,k=2 0.77\n",
      "for i=2,j=2,k=3 0.76\n",
      "for i=2,j=3,k=1 0.75\n",
      "for i=2,j=3,k=2 0.76\n",
      "for i=2,j=3,k=3 0.76\n",
      "for i=3,j=1,k=1 0.79\n",
      "for i=3,j=1,k=2 0.78\n",
      "for i=3,j=1,k=3 0.77\n",
      "for i=3,j=2,k=1 0.77\n",
      "for i=3,j=2,k=2 0.76\n",
      "for i=3,j=2,k=3 0.76\n",
      "for i=3,j=3,k=1 0.77\n",
      "for i=3,j=3,k=2 0.76\n",
      "for i=3,j=3,k=3 0.76\n"
     ]
    }
   ],
   "source": [
    "for i in range(1,4):\n",
    "    for j in range(1,4):\n",
    "        for k in range(1,4):\n",
    "            vc = VotingClassifier(estimators=estimators,voting='soft',weights=[i,j,k])\n",
    "            x = cross_val_score(vc,X,y,cv=10,scoring='accuracy')\n",
    "            print('for i={},j={},k={}'.format(i,j,k),np.round(np.mean(x),2))"
   ]
  },
  {
   "cell_type": "markdown",
   "id": "a2df3be5",
   "metadata": {},
   "source": [
    "# Classifiers of Same Algo"
   ]
  },
  {
   "cell_type": "code",
   "execution_count": 15,
   "id": "83143392",
   "metadata": {},
   "outputs": [],
   "source": [
    "from sklearn.svm import SVC"
   ]
  },
  {
   "cell_type": "code",
   "execution_count": 16,
   "id": "ae624946",
   "metadata": {},
   "outputs": [
    {
     "name": "stdout",
     "output_type": "stream",
     "text": [
      "svm1 0.8\n",
      "svm2 0.75\n",
      "svm3 0.78\n",
      "svm4 0.68\n",
      "svm5 0.66\n"
     ]
    }
   ],
   "source": [
    "from sklearn.datasets import make_classification\n",
    "\n",
    "X,y = make_classification(n_samples=100,n_features=20,n_informative=15,n_redundant=5,random_state=10)\n",
    "\n",
    "svm1 = SVC(probability = True, kernel='poly', degree=1)\n",
    "svm2 = SVC(probability=True, kernel='poly', degree=2)\n",
    "svm3 = SVC(probability=True, kernel='poly', degree=3)\n",
    "svm4 = SVC(probability=True, kernel='poly', degree=4)\n",
    "svm5 = SVC(probability=True, kernel='poly', degree=5)\n",
    "\n",
    "estimators = [('svm1',svm1),('svm2',svm2),('svm3',svm3),('svm4',svm4),('svm5',svm5)]\n",
    "\n",
    "for estimator in estimators:\n",
    "    x = cross_val_score(estimator[1],X,y,cv=10,scoring='accuracy')\n",
    "    print(estimator[0],np.round(np.mean(x),2))"
   ]
  },
  {
   "cell_type": "code",
   "execution_count": 17,
   "id": "bb9f1270",
   "metadata": {},
   "outputs": [
    {
     "name": "stdout",
     "output_type": "stream",
     "text": [
      "0.83\n"
     ]
    }
   ],
   "source": [
    "vc1 = VotingClassifier(estimators=estimators,voting='soft')\n",
    "x = cross_val_score(vc1,X,y,cv=30,scoring='accuracy')\n",
    "print(np.round(np.mean(x),2))"
   ]
  }
 ],
 "metadata": {
  "kernelspec": {
   "display_name": "Python 3 (ipykernel)",
   "language": "python",
   "name": "python3"
  },
  "language_info": {
   "codemirror_mode": {
    "name": "ipython",
    "version": 3
   },
   "file_extension": ".py",
   "mimetype": "text/x-python",
   "name": "python",
   "nbconvert_exporter": "python",
   "pygments_lexer": "ipython3",
   "version": "3.11.5"
  }
 },
 "nbformat": 4,
 "nbformat_minor": 5
}
